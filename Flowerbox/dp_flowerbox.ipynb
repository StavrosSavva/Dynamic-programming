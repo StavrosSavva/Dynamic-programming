{
 "cells": [
  {
   "cell_type": "code",
   "execution_count": 1,
   "metadata": {},
   "outputs": [],
   "source": [
    "def flowerbox(nutrient_values):\n",
    "    \n",
    "    a = 0  \n",
    "    b = 0  \n",
    "    for val in nutrient_values:\n",
    "\n",
    "        a, b = b, max(a + val, b) #keep the old best in a and the new best in b\n",
    "\n",
    "    return b"
   ]
  },
  {
   "cell_type": "code",
   "execution_count": 2,
   "metadata": {},
   "outputs": [
    {
     "name": "stdout",
     "output_type": "stream",
     "text": [
      "flowerbox([3, 10, 3, 1, 2]) = 12\n",
      "flowerbox([9, 10, 9]      ) = 18\n"
     ]
    }
   ],
   "source": [
    "print(f'flowerbox([3, 10, 3, 1, 2]) = {flowerbox([3, 10, 3, 1, 2])}')\n",
    "print(f'flowerbox([9, 10, 9]      ) = {flowerbox([9, 10, 9])}')"
   ]
  }
 ],
 "metadata": {
  "kernelspec": {
   "display_name": "base",
   "language": "python",
   "name": "python3"
  },
  "language_info": {
   "codemirror_mode": {
    "name": "ipython",
    "version": 3
   },
   "file_extension": ".py",
   "mimetype": "text/x-python",
   "name": "python",
   "nbconvert_exporter": "python",
   "pygments_lexer": "ipython3",
   "version": "3.10.9"
  },
  "orig_nbformat": 4
 },
 "nbformat": 4,
 "nbformat_minor": 2
}
