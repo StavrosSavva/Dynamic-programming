{
 "cells": [
  {
   "cell_type": "code",
   "execution_count": 6,
   "metadata": {},
   "outputs": [],
   "source": [
    "#recursive\n",
    "def fib_naive(n):\n",
    "    \n",
    "    if n == 0: return 1\n",
    "    if n == 1: return 1\n",
    "\n",
    "    return fib_naive(n - 1) + fib_naive(n - 2)"
   ]
  },
  {
   "cell_type": "code",
   "execution_count": 7,
   "metadata": {},
   "outputs": [],
   "source": [
    "#memoisation\n",
    "def fib_mem(n, cache=None):\n",
    "    if n == 0: return 1\n",
    "    if n == 1: return 1\n",
    "\n",
    "    if cache is None: cache = {}\n",
    "    \n",
    "    if n in cache: return cache[n]\n",
    "\n",
    "    result = fib_mem(n - 1, cache) + fib_mem(n - 2, cache)\n",
    "\n",
    "    cache[n] = result\n",
    "    return result"
   ]
  },
  {
   "cell_type": "code",
   "execution_count": 2,
   "metadata": {},
   "outputs": [],
   "source": [
    "#bottom up\n",
    "def fib(n):\n",
    "    a = 1  \n",
    "    b = 1 \n",
    "    for _ in range(2, n + 1):  \n",
    "        # the old \"a\" is no longer accessible after this\n",
    "        a, b = b, a + b\n",
    "\n",
    "    return b"
   ]
  },
  {
   "cell_type": "code",
   "execution_count": 9,
   "metadata": {},
   "outputs": [
    {
     "name": "stdout",
     "output_type": "stream",
     "text": [
      "fib(10) took  0.00377s\n",
      "fib(20) took  0.33108s\n",
      "fib(30) took 35.76876s\n"
     ]
    }
   ],
   "source": [
    "import timeit\n",
    "\n",
    "for n in [10, 20, 30]:\n",
    "    duration = timeit.timeit(f'fib_naive({n})', number=100, globals=globals())\n",
    "    print(f'fib({n}) took {duration:8.5f}s')"
   ]
  },
  {
   "cell_type": "code",
   "execution_count": 10,
   "metadata": {},
   "outputs": [
    {
     "name": "stdout",
     "output_type": "stream",
     "text": [
      "fib(10) took  0.00054s\n",
      "fib(20) took  0.00097s\n",
      "fib(30) took  0.00123s\n",
      "fib(100) took  0.00474s\n"
     ]
    }
   ],
   "source": [
    "for n in [10, 20, 30, 100]:\n",
    "    duration = timeit.timeit(f'fib_mem({n})', number=100, globals=globals())\n",
    "    print(f'fib({n}) took {duration:8.5f}s')"
   ]
  },
  {
   "cell_type": "code",
   "execution_count": 11,
   "metadata": {},
   "outputs": [
    {
     "name": "stdout",
     "output_type": "stream",
     "text": [
      "fib(10) took  0.00010s\n",
      "fib(20) took  0.00030s\n",
      "fib(30) took  0.00024s\n",
      "fib(100) took  0.00046s\n"
     ]
    }
   ],
   "source": [
    "for n in [10, 20, 30, 100]:\n",
    "    duration = timeit.timeit(f'fib({n})', number=100, globals=globals())\n",
    "    print(f'fib({n}) took {duration:8.5f}s')"
   ]
  }
 ],
 "metadata": {
  "kernelspec": {
   "display_name": "base",
   "language": "python",
   "name": "python3"
  },
  "language_info": {
   "codemirror_mode": {
    "name": "ipython",
    "version": 3
   },
   "file_extension": ".py",
   "mimetype": "text/x-python",
   "name": "python",
   "nbconvert_exporter": "python",
   "pygments_lexer": "ipython3",
   "version": "3.10.9"
  },
  "orig_nbformat": 4
 },
 "nbformat": 4,
 "nbformat_minor": 2
}
