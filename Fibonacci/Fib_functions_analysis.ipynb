{
 "cells": [
  {
   "cell_type": "code",
   "execution_count": null,
   "metadata": {},
   "outputs": [],
   "source": [
    "#recursive\n",
    "def fib_naive(n):\n",
    "    \n",
    "    if n == 0: return 1\n",
    "    if n == 1: return 1\n",
    "\n",
    "    return fib_naive(n - 1) + fib_naive(n - 2)"
   ]
  },
  {
   "cell_type": "code",
   "execution_count": null,
   "metadata": {},
   "outputs": [],
   "source": [
    "#memoisation\n",
    "def fib_mem(n, cache=None):\n",
    "    if n == 0: return 1\n",
    "    if n == 1: return 1\n",
    "\n",
    "    if cache is None: cache = {}\n",
    "    \n",
    "    if n in cache: return cache[n]\n",
    "\n",
    "    result = fib_mem(n - 1, cache) + fib_mem(n - 2, cache)\n",
    "\n",
    "    cache[n] = result\n",
    "    return result"
   ]
  },
  {
   "cell_type": "code",
   "execution_count": null,
   "metadata": {},
   "outputs": [],
   "source": [
    "#bottom up\n",
    "def fib(n):\n",
    "    a = 1  \n",
    "    b = 1 \n",
    "    for i in range(2, n + 1):  \n",
    "        # the old \"a\" is no longer accessible after this\n",
    "        a, b = b, a + b\n",
    "\n",
    "    return b"
   ]
  }
 ],
 "metadata": {
  "language_info": {
   "name": "python"
  },
  "orig_nbformat": 4
 },
 "nbformat": 4,
 "nbformat_minor": 2
}
